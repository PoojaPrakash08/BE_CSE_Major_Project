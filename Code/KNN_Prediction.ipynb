{
 "cells": [
  {
   "cell_type": "code",
   "execution_count": 6,
   "id": "f1247957-4dc6-4844-891e-a3f3d85cf4b7",
   "metadata": {},
   "outputs": [
    {
     "name": "stdout",
     "output_type": "stream",
     "text": [
      "              precision    recall  f1-score   support\n",
      "\n",
      "          No       0.75      0.75      0.75      9743\n",
      "         Yes       0.75      0.75      0.75      9825\n",
      "\n",
      "    accuracy                           0.75     19568\n",
      "   macro avg       0.75      0.75      0.75     19568\n",
      "weighted avg       0.75      0.75      0.75     19568\n",
      "\n",
      "[[7297 2446]\n",
      " [2417 7408]]\n",
      "Accuracy of KNN model: 75.14820114472607\n"
     ]
    }
   ],
   "source": [
    "import pandas as pd\n",
    "from sklearn.metrics import accuracy_score, classification_report, confusion_matrix\n",
    "from sklearn.preprocessing import StandardScaler\n",
    "from sklearn.neighbors import KNeighborsClassifier\n",
    "\n",
    "# Load the dataset with ET values calculated using Penman-Monteith formula\n",
    "df = pd.read_csv(\"C:\\\\Users\\\\POOJA\\\\Desktop\\\\Major Project\\\\Datasets\\\\KNN_ET_PM.csv\")\n",
    "\n",
    "# Assuming you have a labeled dataset with a column indicating whether sugarcane can grow or not\n",
    "# For example, let's assume you have a column named 'Sugarcane_Growth' with labels 'Yes' or 'No'\n",
    "# You need to replace this with your actual labeled data\n",
    "# For demonstration purposes, I'll randomly assign labels 'Yes' or 'No' to the dataset\n",
    "import random\n",
    "df['Sugarcane_Growth'] = [random.choice(['Yes', 'No']) for _ in range(len(df))]\n",
    "\n",
    "# Define features (ET_PM) and target variable (Sugarcane_Growth)\n",
    "X = df[['ET_PM']]  # Feature\n",
    "y = df['Sugarcane_Growth']  # Target variable\n",
    "\n",
    "# Standardize features by removing the mean and scaling to unit variance\n",
    "scaler = StandardScaler()\n",
    "X_scaled = scaler.fit_transform(X)\n",
    "\n",
    "# Choose k (number of neighbors)\n",
    "k = 3\n",
    "# Train the KNN classifier using the entire dataset\n",
    "classifier = KNeighborsClassifier(n_neighbors=k)\n",
    "classifier.fit(X_scaled, y)\n",
    "\n",
    "# Predict the labels for the entire dataset\n",
    "y_pred = classifier.predict(X_scaled)\n",
    "\n",
    "# Add predicted labels to the original dataset\n",
    "df['Predicted_Sugarcane_Growth'] = y_pred\n",
    "\n",
    "# Save the dataset with predicted labels appended\n",
    "output_path = \"C:\\\\Users\\\\POOJA\\\\Desktop\\\\Major Project\\\\Datasets\\\\KNN_Predictions.csv\"\n",
    "df.to_csv(output_path, index=False)\n",
    "\n",
    "# Calculate accuracy\n",
    "accuracy = accuracy_score(y, y_pred)\n",
    "print(classification_report(y, y_pred))\n",
    "print(confusion_matrix(y, y_pred))\n",
    "print(\"Accuracy of KNN model:\", accuracy*100)\n"
   ]
  },
  {
   "cell_type": "code",
   "execution_count": null,
   "id": "1f2ab0a1-1883-44f0-a259-738c70a4297b",
   "metadata": {},
   "outputs": [],
   "source": []
  }
 ],
 "metadata": {
  "kernelspec": {
   "display_name": "Python 3 (ipykernel)",
   "language": "python",
   "name": "python3"
  },
  "language_info": {
   "codemirror_mode": {
    "name": "ipython",
    "version": 3
   },
   "file_extension": ".py",
   "mimetype": "text/x-python",
   "name": "python",
   "nbconvert_exporter": "python",
   "pygments_lexer": "ipython3",
   "version": "3.8.7"
  }
 },
 "nbformat": 4,
 "nbformat_minor": 5
}
