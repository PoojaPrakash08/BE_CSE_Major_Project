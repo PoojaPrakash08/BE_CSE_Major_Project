{
 "cells": [
  {
   "cell_type": "code",
   "execution_count": 1,
   "id": "5eec133d-efee-41fc-930f-ce0a128f979c",
   "metadata": {
    "scrolled": true
   },
   "outputs": [
    {
     "name": "stdout",
     "output_type": "stream",
     "text": [
      "Test Accuracy: 79.72972972972973\n",
      "              precision    recall  f1-score   support\n",
      "\n",
      "          No       0.56      0.83      0.67        18\n",
      "         Yes       0.94      0.79      0.85        56\n",
      "\n",
      "    accuracy                           0.80        74\n",
      "   macro avg       0.75      0.81      0.76        74\n",
      "weighted avg       0.84      0.80      0.81        74\n",
      "\n"
     ]
    }
   ],
   "source": [
    "import pandas as pd\n",
    "from sklearn.model_selection import train_test_split\n",
    "from sklearn.preprocessing import MinMaxScaler\n",
    "from sklearn.neural_network import MLPClassifier\n",
    "from sklearn.metrics import accuracy_score, classification_report, confusion_matrix\n",
    "from joblib import dump\n",
    "\n",
    "# Load dataset\n",
    "data = pd.read_csv(r\"C:\\\\Users\\\\POOJA\\\\Desktop\\\\Major Project\\\\Datasets\\\\ANN_ET_PM_2.csv\")\n",
    "\n",
    "# Feature selection\n",
    "X = data[['MaxTemp', 'MinTemp', 'Rainfall', 'Humidity', 'WindSpeed', 'Radiation', 'ET_PM']]\n",
    "y = data['Sugarcane_Growth']  # Assuming 'SugarCaneGrowth' is the target variable\n",
    "\n",
    "# Data preprocessing\n",
    "scaler = MinMaxScaler()\n",
    "X_scaled = scaler.fit_transform(X)\n",
    "\n",
    "# Split data into train and test sets\n",
    "X_train, X_test, y_train, y_test = train_test_split(X_scaled, y, test_size=0.2, random_state=42)\n",
    "\n",
    "# Build and train the model\n",
    "model = MLPClassifier(hidden_layer_sizes=(64, 32), activation='relu', solver='adam', max_iter=1000, random_state=42)\n",
    "model.fit(X_train, y_train)\n",
    "\n",
    "# Evaluate the model\n",
    "y_pred = model.predict(X_test)\n",
    "accuracy = accuracy_score(y_test, y_pred)\n",
    "print(f'Test Accuracy: {accuracy*100}')\n",
    "\n",
    "# Display classification report\n",
    "print(classification_report(y_test, y_pred))\n",
    "print(confusion_matrix(y_test, y_pred))\n",
    "\n",
    "# Add predictions as a new column in the original DataFrame\n",
    "data['Predictions'] = model.predict(X_scaled)\n",
    "\n",
    "# Save the DataFrame to a new Excel file\n",
    "output_path = r\"C:\\\\Users\\\\POOJA\\\\Desktop\\\\Major Project\\\\Datasets\\\\ANN_Predictions_2.csv\"\n",
    "data.to_csv(output_path, index=False)\n"
   ]
  },
  {
   "cell_type": "code",
   "execution_count": null,
   "id": "81800e9e-6de2-4bb0-b1de-5b88ed6d40b8",
   "metadata": {},
   "outputs": [],
   "source": []
  }
 ],
 "metadata": {
  "kernelspec": {
   "display_name": "Python 3 (ipykernel)",
   "language": "python",
   "name": "python3"
  },
  "language_info": {
   "codemirror_mode": {
    "name": "ipython",
    "version": 3
   },
   "file_extension": ".py",
   "mimetype": "text/x-python",
   "name": "python",
   "nbconvert_exporter": "python",
   "pygments_lexer": "ipython3",
   "version": "3.8.7"
  }
 },
 "nbformat": 4,
 "nbformat_minor": 5
}
